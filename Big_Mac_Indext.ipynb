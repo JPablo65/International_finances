{
 "cells": [
  {
   "cell_type": "markdown",
   "id": "c4431e9f-1c9c-4577-aa60-5be3c425af91",
   "metadata": {},
   "source": [
    "# Lets clean some data to get the dollar valuation with the big mac index"
   ]
  },
  {
   "cell_type": "markdown",
   "id": "703806d5-5aa8-4cbb-9625-cc668bb8e8e3",
   "metadata": {},
   "source": [
    "#### First, let’s import some libraries"
   ]
  },
  {
   "cell_type": "code",
   "execution_count": null,
   "id": "a6050813-ac04-4145-9c69-6a6a9e27ba8f",
   "metadata": {},
   "outputs": [],
   "source": [
    "import pandas as pd"
   ]
  },
  {
   "cell_type": "markdown",
   "id": "29e999e6-9061-479b-aa92-3c9e07a963fd",
   "metadata": {},
   "source": [
    "##### Let’s clean the data and get the dollar valuation"
   ]
  },
  {
   "cell_type": "code",
   "execution_count": null,
   "id": "2ecd4149-2885-44d5-a6e6-3dc2ed3a92f7",
   "metadata": {},
   "outputs": [],
   "source": [
    "excel_file_path = 'Big Mac Index 2000-Jul2022.xlsx'\n",
    "excel_data = pd.read_excel(excel_file_path, sheet_name=None)\n",
    "\n",
    "xls = pd.ExcelFile(excel_file_path)\n",
    "sheet_names = xls.sheet_names\n",
    "dates = pd.Series(sheet_names)\n",
    "dates = dates.apply(lambda x: pd.to_datetime(x, format='%b%Y'))\n",
    "\n",
    "dfs = list(excel_data.values())\n",
    "\n",
    "for i in range(len(dfs)):\n",
    "    \n",
    "    dfs[i] = dfs[i][['Country','local_price', 'dollar_ex']]\n",
    "    aux = dfs[i].loc[dfs[i]['Country'] == 'United States', 'local_price'].values[0]\n",
    "    dfs[i]['dollar_valuation'] = ((dfs[i]['local_price'] / aux) - dfs[i]['dollar_ex'])/dfs[i]['dollar_ex']\n",
    "\n",
    "    dfs[i] = dfs[i][['Country', 'dollar_valuation']].T.reset_index().drop(['index'],axis = 1)\n",
    "    \n",
    "    dfs[i].columns = dfs[i].iloc[0]\n",
    "    dfs[i] = dfs[i].iloc[1:]\n",
    "    \n",
    "df = pd.concat(dfs, axis=0, ignore_index=True)\n",
    "df = df.fillna(method='ffill')\n",
    "df = df.fillna(method='bfill')\n",
    "df.index = dates\n",
    "df = df.sort_index().T\n",
    "df\n"
   ]
  },
  {
   "cell_type": "code",
   "execution_count": null,
   "id": "7c0581ae-3f76-4b91-b85e-31f74274e590",
   "metadata": {},
   "outputs": [],
   "source": [
    "df.to_excel('Big_Mac_clean_data.xlsx')"
   ]
  }
 ],
 "metadata": {
  "kernelspec": {
   "display_name": "Python 3 (ipykernel)",
   "language": "python",
   "name": "python3"
  },
  "language_info": {
   "codemirror_mode": {
    "name": "ipython",
    "version": 3
   },
   "file_extension": ".py",
   "mimetype": "text/x-python",
   "name": "python",
   "nbconvert_exporter": "python",
   "pygments_lexer": "ipython3",
   "version": "3.11.4"
  }
 },
 "nbformat": 4,
 "nbformat_minor": 5
}
